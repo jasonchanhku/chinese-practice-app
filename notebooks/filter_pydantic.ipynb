{
 "cells": [
  {
   "cell_type": "code",
   "execution_count": 6,
   "metadata": {},
   "outputs": [
    {
     "name": "stdout",
     "output_type": "stream",
     "text": [
      "Name='Jason Chan' Age=25\n",
      "Name='Jason Wong' Age=35\n"
     ]
    }
   ],
   "source": [
    "from pydantic import BaseModel\n",
    "from typing import List\n",
    "\n",
    "# Define the Pydantic model\n",
    "class Person(BaseModel):\n",
    "    Name: str\n",
    "    Age: int\n",
    "\n",
    "# Function to perform free text search\n",
    "def search_people(people: List[Person], query: str) -> List[Person]:\n",
    "    result = []\n",
    "    query_lower = query.lower()\n",
    "    for person in people:\n",
    "        if (query_lower in person.Name.lower()) or (query_lower in str(person.Age)):\n",
    "            result.append(person)\n",
    "    return result\n",
    "\n",
    "# Create a list of Person objects\n",
    "people_list = [\n",
    "    Person(Name=\"Alice\", Age=25),\n",
    "    Person(Name=\"Jason Chan\", Age=25),\n",
    "    Person(Name=\"Jason Wong\", Age=35),\n",
    "]\n",
    "\n",
    "# Perform the search\n",
    "query = \"Jason\"\n",
    "matching_people = search_people(people_list, query)\n",
    "\n",
    "# Print the matching people\n",
    "for person in matching_people:\n",
    "    print(person)\n",
    "\n",
    "# Output:\n",
    "# Name='Bob' Age=25"
   ]
  },
  {
   "cell_type": "code",
   "execution_count": 4,
   "metadata": {},
   "outputs": [
    {
     "data": {
      "text/plain": [
       "[Person(Name='Alice', Age=25), Person(Name='Bob', Age=25)]"
      ]
     },
     "execution_count": 4,
     "metadata": {},
     "output_type": "execute_result"
    }
   ],
   "source": [
    "matching_people"
   ]
  },
  {
   "cell_type": "code",
   "execution_count": null,
   "metadata": {},
   "outputs": [],
   "source": []
  }
 ],
 "metadata": {
  "kernelspec": {
   "display_name": "chinese_practice",
   "language": "python",
   "name": "python3"
  },
  "language_info": {
   "codemirror_mode": {
    "name": "ipython",
    "version": 3
   },
   "file_extension": ".py",
   "mimetype": "text/x-python",
   "name": "python",
   "nbconvert_exporter": "python",
   "pygments_lexer": "ipython3",
   "version": "3.11.9"
  }
 },
 "nbformat": 4,
 "nbformat_minor": 2
}
