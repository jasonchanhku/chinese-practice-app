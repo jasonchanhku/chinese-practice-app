{
 "cells": [
  {
   "cell_type": "markdown",
   "metadata": {},
   "source": [
    "# Libraries"
   ]
  },
  {
   "cell_type": "code",
   "execution_count": 1,
   "metadata": {},
   "outputs": [],
   "source": [
    "import pandas as pd\n",
    "import requests\n",
    "import json\n",
    "from typing import List\n",
    "from pydantic import BaseModel, Field, ValidationError\n",
    "\n",
    "import streamlit as st\n",
    "\n",
    "from openai import OpenAI"
   ]
  },
  {
   "cell_type": "code",
   "execution_count": 2,
   "metadata": {},
   "outputs": [],
   "source": [
    "df = pd.read_csv(\"../data/processed/chinese_keywords.csv\")\n",
    "df['word'] = df['word'].apply(lambda x: \"\".join(x.split()))"
   ]
  },
  {
   "cell_type": "markdown",
   "metadata": {},
   "source": [
    "# Translate"
   ]
  },
  {
   "cell_type": "code",
   "execution_count": 7,
   "metadata": {},
   "outputs": [
    {
     "name": "stdout",
     "output_type": "stream",
     "text": [
      "Translated Text: He works very hard every day.\n"
     ]
    }
   ],
   "source": [
    "\n",
    "def translate(text, from_lang, to_lang):\n",
    "    # Base URL of the translation API\n",
    "    url = \"https://api.datpmt.com/api/v1/dictionary/translate\"\n",
    "\n",
    "    # Parameters for the GET request\n",
    "    params = {\n",
    "        'string': text,\n",
    "        'from_lang': from_lang,\n",
    "        'to_lang': to_lang\n",
    "    }\n",
    "\n",
    "    # Make the GET request to the translation API\n",
    "    response = requests.get(url, params=params)\n",
    "\n",
    "    # Check if the request was successful\n",
    "    if response.status_code == 200:\n",
    "        # Parse JSON response\n",
    "        json_response = response.json()\n",
    "        return json_response # Adjust the key based on actual API response structure\n",
    "    else:\n",
    "        return \"Error: \" + response.text\n",
    "\n",
    "# Usage\n",
    "text_to_translate = \"他每天工作很辛苦。\"\n",
    "from_language = \"zh-TW\"\n",
    "to_language = \"en\"\n",
    "translated_text = translate(text_to_translate, from_language, to_language)\n",
    "\n",
    "print(\"Translated Text:\", translated_text)"
   ]
  },
  {
   "cell_type": "markdown",
   "metadata": {},
   "source": [
    "# Transliterate"
   ]
  },
  {
   "cell_type": "code",
   "execution_count": 6,
   "metadata": {},
   "outputs": [
    {
     "name": "stdout",
     "output_type": "stream",
     "text": [
      "Transliterated Text (Pinyin): Error: {\"error\":\"Our systems have detected unusual traffic from your computer network. Please try your request again later.\"}\n"
     ]
    }
   ],
   "source": [
    "def transliterate(keyword, from_lang):\n",
    "    # Base URL of the transliteration API\n",
    "    url = \"https://api.datpmt.com/api/v1/dictionary/transliteration\"\n",
    "\n",
    "    # Parameters for the GET request\n",
    "    params = {\n",
    "        'keyword': keyword,\n",
    "        'from_lang': from_lang\n",
    "    }\n",
    "\n",
    "    # Make the GET request to the transliteration API\n",
    "    response = requests.get(url, params=params)\n",
    "\n",
    "    # Check if the request was successful\n",
    "    if response.status_code == 200:\n",
    "        # Parse JSON response\n",
    "        json_response = response.json()\n",
    "        return json_response  # Adjust this key based on the actual API response structure\n",
    "    else:\n",
    "        return \"Error: \" + response.text\n",
    "\n",
    "# Usage\n",
    "chinese_text = \"他每天工作很辛苦。\"\n",
    "from_language = \"zh-TW\"\n",
    "pinyin_text = transliterate(chinese_text, from_language)\n",
    "\n",
    "print(\"Transliterated Text (Pinyin):\", pinyin_text)"
   ]
  },
  {
   "cell_type": "code",
   "execution_count": 48,
   "metadata": {},
   "outputs": [],
   "source": [
    "word_list = df['word'].tolist()"
   ]
  },
  {
   "cell_type": "code",
   "execution_count": 52,
   "metadata": {},
   "outputs": [
    {
     "data": {
      "text/plain": [
       "[{'word': '強基金', 'pinyin': 'Qiáng jījīn', 'translate': 'Strong fund'}]"
      ]
     },
     "execution_count": 52,
     "metadata": {},
     "output_type": "execute_result"
    }
   ],
   "source": [
    "[{\"word\": \"強基金\", \"pinyin\":\"Qiáng jījīn\", \"translate\":\"Strong fund\"}]"
   ]
  },
  {
   "cell_type": "markdown",
   "metadata": {},
   "source": [
    "\"辛苦\" is a Chinese word that you would use to express \"hard work\", \"tiredness\", or \"exertion\". It can also be used as a way to say \"take care\", \"be well\", or \"have a good rest\" when someone has been working hard.\n",
    "\n",
    "**Pinyin:** Kǔ xīn\n",
    "\n",
    "**Example usage:**\n",
    "1. 你干了一天的活，辛苦了。 (Nǐ gàn yī tiān de huó, kǔ xīn le.) - You've worked all day, you must be tired.\n",
    "2. 感谢你的辛苦工作。 (Gǎn xiè nǐ de kǔ xīn gōng zuò.) - Thank you for your hard work."
   ]
  },
  {
   "cell_type": "markdown",
   "metadata": {},
   "source": [
    "# LLM to generate the following\n",
    "\n",
    "- meanings\n",
    "- 5 simple example usages\n",
    "\n",
    "## `openai` response\n",
    "```json\n",
    "[\n",
    "  {\n",
    "    \"definitions\": [\n",
    "      \"辛苦 is a Chinese word that you would use to express 'hard work', 'tiredness', or 'exertion'.\",\n",
    "      \"辛苦 is also used as a way to say 'take care', 'be well', or 'have a good rest' when someone has been working hard.\"\n",
    "    ],\n",
    "    \"example_usages\": [\n",
    "      \"他每天工作很辛苦。\",\n",
    "      \"她辛苦地照顾三个孩子。\",\n",
    "      \"辛苦了，谢谢你的帮助。\",\n",
    "      \"这项工作真是太辛苦了。\",\n",
    "      \"尽管辛苦，他从不抱怨。\"\n",
    "    ]\n",
    "  }\n",
    "]\n",
    "```\n",
    "\n",
    "## Final `json`\n",
    "\n",
    "```json\n",
    "[\n",
    "  {\n",
    "    \"word\": \"辛苦\",\n",
    "    \"translation\": \"Hard\",\n",
    "    \"pronounciation_audio_bytes\": \"RIFF~vx\",\n",
    "    \"definitions\": [\n",
    "      \"辛苦 is a Chinese word that you would use to express 'hard work', 'tiredness', or 'exertion'.\",\n",
    "      \"辛苦 is also used as a way to say 'take care', 'be well', or 'have a good rest' when someone has been working hard.\"\n",
    "    ],\n",
    "    \"example_usages\": [\n",
    "      {\n",
    "        \"chinese\": \"他每天工作很辛苦。\",\n",
    "        \"pinyin\": \"Tā měitiān gōngzuò hěn xīnkǔ.\",\n",
    "        \"english\": \"He works very hard every day.\",\n",
    "        \"audio_bytes\": \"RIFF~vx\"\n",
    "      },\n",
    "      {\n",
    "        \"chinese\": \"她辛苦地照顾三个孩子。\",\n",
    "        \"pinyin\": \"Tā xīnkǔ de zhàogù sān gè háizi.\",\n",
    "        \"english\": \"She worked hard to take care of her three children.\",\n",
    "        \"audio_bytes\": \"RIFF~vx\"\n",
    "      },\n",
    "      {\n",
    "        \"chinese\": \"辛苦了，谢谢你的帮助。\",\n",
    "        \"pinyin\": \"Xīnkǔle, xièxiè nǐ de bāngzhù.\",\n",
    "        \"english\": \"Thank you for your help.\",\n",
    "        \"audio_bytes\": \"RIFF~vx\"\n",
    "      }\n",
    "    ]\n",
    "  }\n",
    "]\n",
    "```"
   ]
  },
  {
   "cell_type": "code",
   "execution_count": 6,
   "metadata": {},
   "outputs": [],
   "source": [
    "client = OpenAI(api_key=st.secrets[\"OPENAI_API_KEY\"])\n"
   ]
  },
  {
   "cell_type": "code",
   "execution_count": 22,
   "metadata": {},
   "outputs": [],
   "source": [
    "chinese_word = \"接機\"\n",
    "user_prompt = f\"\"\"\n",
    "# Instuction\n",
    "Generate a response in a structured JSON format that interprets the traditional Chinese word {chinese_word}. Include a list of definitions and a list of sentences as example usages. Ensure that:\n",
    "\n",
    "# JSON Output Requirements\n",
    "- The \"definitions\" key contains 1 to 3 entries that explain the word in English.\n",
    "- The \"example_usages\" key contains exactly 3 sentences demonstrating the use of the word in traditional Chinese sentences.\n",
    "\n",
    "# Example output\n",
    "- Below is an example output for the traditional Chinese word \"辛苦\"\n",
    "\n",
    "```json\n",
    "[\n",
    "  {{\n",
    "    \"definitions\": [\n",
    "      \"辛苦 is a Chinese word that you would use to express 'hard work', 'tiredness', or 'exertion'.\",\n",
    "      \"辛苦 is also used as a way to say 'take care', 'be well', or 'have a good rest' when someone has been working hard.\"\n",
    "    ],\n",
    "    \"example_usages\": [\n",
    "      \"他每天工作很辛苦。\",\n",
    "      \"她辛苦地照顾三个孩子。\",\n",
    "      \"辛苦了，谢谢你的帮助。\",\n",
    "    ]\n",
    "  }}\n",
    "]\n",
    "```\n",
    "\"\"\""
   ]
  },
  {
   "cell_type": "code",
   "execution_count": 23,
   "metadata": {},
   "outputs": [
    {
     "name": "stdout",
     "output_type": "stream",
     "text": [
      "{\n",
      "  \"definitions\": [\n",
      "    \"接機 refers to the act of picking someone up at the airport.\",\n",
      "    \"接機 can also imply providing transportation for someone arriving on a flight.\",\n",
      "    \"The term is often used in the context of greeting friends or family who arrive by plane.\"\n",
      "  ],\n",
      "  \"example_usages\": [\n",
      "    \"我今天要去接機，我的朋友從國外回來。\",\n",
      "    \"她提前到了，準備在機場接機。\",\n",
      "    \"他常常幫忙接機他的同事，讓他們感到受歡迎。\"\n",
      "  ]\n",
      "}\n"
     ]
    }
   ],
   "source": [
    "\n",
    "response = client.chat.completions.create(\n",
    "  model=\"gpt-4o-mini\",\n",
    "  response_format={ \"type\": \"json_object\" },\n",
    "  messages=[\n",
    "    {\"role\": \"system\", \"content\": \"You are a helpful assistant designed to output JSON.\"},\n",
    "    {\"role\": \"user\", \"content\": user_prompt}\n",
    "  ]\n",
    ")\n",
    "print(response.choices[0].message.content)"
   ]
  },
  {
   "cell_type": "code",
   "execution_count": 26,
   "metadata": {},
   "outputs": [],
   "source": [
    "response_string = response.choices[0].message.content"
   ]
  },
  {
   "cell_type": "markdown",
   "metadata": {},
   "source": [
    "# Pydantic\n",
    "\n",
    "Validate JSON output"
   ]
  },
  {
   "cell_type": "code",
   "execution_count": 43,
   "metadata": {},
   "outputs": [],
   "source": [
    "class OpenAIValidator(BaseModel):\n",
    "    definitions: List[str] = Field(min_items=1, max_items=3)\n",
    "    example_usages: List[str] = Field(min_items=3, max_items=3)"
   ]
  },
  {
   "cell_type": "code",
   "execution_count": 45,
   "metadata": {},
   "outputs": [],
   "source": [
    "mydata =   {\n",
    "    \"definitions\": [\n",
    "      \"辛苦 is a Chinese word that you would use to express 'hard work', 'tiredness', or 'exertion'.\",\n",
    "      \"辛苦 is also used as a way to say 'take care', 'be well', or 'have a good rest' when someone has been working hard.\"\n",
    "    ],\n",
    "    \"example_usages\": [\n",
    "      \"他每天工作很辛苦。\",\n",
    "      \"她辛苦地照顾三个孩子。\",\n",
    "      \"辛苦了，谢谢你的帮助。\"\n",
    "    ]\n",
    "  }\n",
    "\n",
    "try:\n",
    "    #mytest = OpenAIValidator(**mydata)\n",
    "    openai_json_validate = OpenAIValidator.model_validate_json(response_string)\n",
    "except ValidationError as e:\n",
    "    print(str(e))"
   ]
  },
  {
   "cell_type": "code",
   "execution_count": 42,
   "metadata": {},
   "outputs": [
    {
     "data": {
      "text/plain": [
       "['接機 refers to the act of picking someone up at the airport.',\n",
       " '接機 can also imply providing transportation for someone arriving on a flight.',\n",
       " 'The term is often used in the context of greeting friends or family who arrive by plane.']"
      ]
     },
     "execution_count": 42,
     "metadata": {},
     "output_type": "execute_result"
    }
   ],
   "source": []
  },
  {
   "cell_type": "markdown",
   "metadata": {},
   "source": [
    "# Text to Speech"
   ]
  },
  {
   "cell_type": "code",
   "execution_count": 9,
   "metadata": {},
   "outputs": [],
   "source": [
    "# Define the URL to your FastAPI endpoint\n",
    "url = \"http://localhost:80/synthesize\"\n",
    "\n",
    "# options of language and speaker\n",
    "# {'EN': ['EN-US', 'EN-BR', 'EN_INDIA', 'EN-AU', 'EN-Default'],\n",
    "#  'ES': ['ES'],\n",
    "#  'FR': ['FR'],\n",
    "#  'ZH': ['ZH'],\n",
    "#  'JP': ['JP'],\n",
    "#  'KR': ['KR']}\n",
    "\n",
    "# The data to be sent in the POST request\n",
    "data = {\n",
    "    \"language\": \"ZH\",  # Replace with the language of your choice\n",
    "    \"speaker\": \"ZH\",  # Replace with speaker of choice. English British accent.\n",
    "    \"text\": \"This is a test. Hello world!\",\n",
    "    \"speed\": 1.2, # must be a positive number\n",
    "}\n",
    "\n",
    "# Set the appropriate headers\n",
    "headers = {\n",
    "    \"Content-Type\": \"application/json\"\n",
    "}\n",
    "\n",
    "# Make the POST request\n",
    "response = requests.post(url, data=json.dumps(data), headers=headers)"
   ]
  },
  {
   "cell_type": "code",
   "execution_count": null,
   "metadata": {},
   "outputs": [],
   "source": []
  }
 ],
 "metadata": {
  "kernelspec": {
   "display_name": "chinese_practice",
   "language": "python",
   "name": "python3"
  },
  "language_info": {
   "codemirror_mode": {
    "name": "ipython",
    "version": 3
   },
   "file_extension": ".py",
   "mimetype": "text/x-python",
   "name": "python",
   "nbconvert_exporter": "python",
   "pygments_lexer": "ipython3",
   "version": "3.11.9"
  }
 },
 "nbformat": 4,
 "nbformat_minor": 2
}
